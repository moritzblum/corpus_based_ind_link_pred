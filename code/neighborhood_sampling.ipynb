{
 "cells": [
  {
   "cell_type": "code",
   "execution_count": 1,
   "id": "9162563b",
   "metadata": {},
   "outputs": [
    {
     "name": "stderr",
     "output_type": "stream",
     "text": [
      "/homes/mblum/miniconda3/envs/lp/lib/python3.10/site-packages/tqdm/auto.py:21: TqdmWarning: IProgress not found. Please update jupyter and ipywidgets. See https://ipywidgets.readthedocs.io/en/stable/user_install.html\n",
      "  from .autonotebook import tqdm as notebook_tqdm\n"
     ]
    }
   ],
   "source": [
    "from torch_geometric.loader import NeighborLoader, NeighborSampler"
   ]
  },
  {
   "cell_type": "code",
   "execution_count": 2,
   "id": "2dbdca6b",
   "metadata": {},
   "outputs": [],
   "source": [
    "import torch\n",
    "from torch_geometric.data import Data\n",
    "\n",
    "edge_index = torch.tensor([[0, 1, 1, 2, 0],\n",
    "                           [1, 0, 2, 1, 3]], dtype=torch.long)\n",
    "x = torch.tensor([[-1], [0], [1]], dtype=torch.float)\n",
    "\n",
    "data = Data(x=x, edge_index=edge_index)"
   ]
  },
  {
   "cell_type": "code",
   "execution_count": 3,
   "id": "612035b9",
   "metadata": {},
   "outputs": [
    {
     "data": {
      "text/plain": [
       "tensor([False,  True,  True, False, False])"
      ]
     },
     "execution_count": 3,
     "metadata": {},
     "output_type": "execute_result"
    }
   ],
   "source": [
    "data.edge_index[0]==1\n"
   ]
  },
  {
   "cell_type": "code",
   "execution_count": null,
   "id": "9c5305a4",
   "metadata": {},
   "outputs": [],
   "source": []
  },
  {
   "cell_type": "code",
   "execution_count": 4,
   "id": "0bce97f2",
   "metadata": {},
   "outputs": [],
   "source": [
    "graphs = [\n",
    "    Data(edge_index=torch.tensor([[1,2,3],[4,5,6]])),\n",
    "    Data(edge_index=torch.tensor([[4,2,5],[9,5,8]]))\n",
    "]\n",
    "\n",
    "g = [graphs[i].edge_index for i in torch.tensor([0,1])]\n",
    "\n",
    "edge_index = torch.cat(g, dim=1)\n"
   ]
  },
  {
   "cell_type": "code",
   "execution_count": 5,
   "id": "f96eb323",
   "metadata": {},
   "outputs": [
    {
     "data": {
      "text/plain": [
       "tensor([[1, 2, 3, 4, 2, 5],\n",
       "        [4, 5, 6, 9, 5, 8]])"
      ]
     },
     "execution_count": 5,
     "metadata": {},
     "output_type": "execute_result"
    }
   ],
   "source": [
    "edge_index"
   ]
  },
  {
   "cell_type": "code",
   "execution_count": 6,
   "id": "d11f4599",
   "metadata": {},
   "outputs": [],
   "source": [
    "torch.save(\n",
    "           graphs, 'tensor.pt')"
   ]
  },
  {
   "cell_type": "code",
   "execution_count": 9,
   "id": "11f26e92",
   "metadata": {},
   "outputs": [
    {
     "name": "stdout",
     "output_type": "stream",
     "text": [
      "###\n",
      "tensor([0, 2, 1, 3, 7, 5, 4])\n",
      "tensor([0, 6, 5, 2, 1])\n",
      "tensor([[2, 3, 4, 5, 6],\n",
      "        [0, 0, 1, 2, 2]])\n",
      "tensor([4, 0])\n",
      "tensor([[1, 2],\n",
      "        [0, 0]])\n",
      "###\n",
      "tensor([1, 6, 4, 5])\n",
      "tensor([1, 2])\n",
      "tensor([[2, 3],\n",
      "        [0, 0]])\n",
      "tensor([3, 1])\n",
      "tensor([[1, 2],\n",
      "        [0, 0]])\n",
      "###\n",
      "tensor([2, 7])\n",
      "tensor([5])\n",
      "tensor([[1],\n",
      "        [0]])\n",
      "tensor([5])\n",
      "tensor([[1],\n",
      "        [0]])\n",
      "###\n",
      "tensor([ 3,  9,  8, 11])\n",
      "tensor([ 8, 10])\n",
      "tensor([[1, 3],\n",
      "        [0, 0]])\n",
      "tensor([8, 7])\n",
      "tensor([[1, 2],\n",
      "        [0, 0]])\n",
      "###\n",
      "tensor([4])\n",
      "tensor([], dtype=torch.int64)\n",
      "tensor([], size=(2, 0), dtype=torch.int64)\n",
      "tensor([], dtype=torch.int64)\n",
      "tensor([], size=(2, 0), dtype=torch.int64)\n",
      "###\n",
      "tensor([5])\n",
      "tensor([], dtype=torch.int64)\n",
      "tensor([], size=(2, 0), dtype=torch.int64)\n",
      "tensor([], dtype=torch.int64)\n",
      "tensor([], size=(2, 0), dtype=torch.int64)\n",
      "###\n",
      "tensor([6])\n",
      "tensor([], dtype=torch.int64)\n",
      "tensor([], size=(2, 0), dtype=torch.int64)\n",
      "tensor([], dtype=torch.int64)\n",
      "tensor([], size=(2, 0), dtype=torch.int64)\n",
      "###\n",
      "tensor([7])\n",
      "tensor([], dtype=torch.int64)\n",
      "tensor([], size=(2, 0), dtype=torch.int64)\n",
      "tensor([], dtype=torch.int64)\n",
      "tensor([], size=(2, 0), dtype=torch.int64)\n",
      "###\n",
      "tensor([8])\n",
      "tensor([], dtype=torch.int64)\n",
      "tensor([], size=(2, 0), dtype=torch.int64)\n",
      "tensor([], dtype=torch.int64)\n",
      "tensor([], size=(2, 0), dtype=torch.int64)\n",
      "###\n",
      "tensor([9])\n",
      "tensor([], dtype=torch.int64)\n",
      "tensor([], size=(2, 0), dtype=torch.int64)\n",
      "tensor([], dtype=torch.int64)\n",
      "tensor([], size=(2, 0), dtype=torch.int64)\n",
      "###\n",
      "tensor([10])\n",
      "tensor([], dtype=torch.int64)\n",
      "tensor([], size=(2, 0), dtype=torch.int64)\n",
      "tensor([], dtype=torch.int64)\n",
      "tensor([], size=(2, 0), dtype=torch.int64)\n",
      "###\n",
      "tensor([11])\n",
      "tensor([], dtype=torch.int64)\n",
      "tensor([], size=(2, 0), dtype=torch.int64)\n",
      "tensor([], dtype=torch.int64)\n",
      "tensor([], size=(2, 0), dtype=torch.int64)\n"
     ]
    }
   ],
   "source": [
    "import numpy as np\n",
    "\n",
    "l = np.array([[0, 1], [1, 4], [1, 5], [1, 6], [0, 2], [2, 7], [0, 3], [3, 8], [3, 9], [3, 10], [3, 11]]).transpose()\n",
    "r = np.array([l[1, :], l[0, :]])\n",
    "edge_index = torch.from_numpy(r)\n",
    "\n",
    "train_loader = NeighborSampler(edge_index,\n",
    "                               sizes=[2, 2], batch_size=1)\n",
    "\n",
    "for batch_size, n_id, adjs in train_loader:\n",
    "    print(\"###\")\n",
    "    print(n_id)\n",
    "    for edge_ind, e_id, size in adjs:\n",
    "        print(e_id)\n",
    "        print(edge_ind)"
   ]
  },
  {
   "cell_type": "code",
   "execution_count": 18,
   "id": "e70716b0",
   "metadata": {},
   "outputs": [
    {
     "name": "stdout",
     "output_type": "stream",
     "text": [
      "tensor([[0, 2],\n",
      "        [1, 2],\n",
      "        [2, 4],\n",
      "        [3, 4],\n",
      "        [4, 6],\n",
      "        [5, 6]])\n"
     ]
    }
   ],
   "source": [
    "edge_index = torch.tensor([[0, 1, 2, 3, 4, 5], [2, 2, 4, 4, 6, 6]])\n",
    "print(edge_index.T)\n",
    "x = torch.zeros((7, 200))"
   ]
  },
  {
   "cell_type": "code",
   "execution_count": 21,
   "id": "f5b8c698",
   "metadata": {},
   "outputs": [],
   "source": [
    "from torch_geometric.utils import k_hop_subgraph\n",
    "# Center node 6, 2-hops\n",
    "subset, edge_index, mapping, edge_mask = k_hop_subgraph([5,6], 1, edge_index, relabel_nodes=True, directed=False)\n"
   ]
  },
  {
   "cell_type": "code",
   "execution_count": 22,
   "id": "597eeb69",
   "metadata": {},
   "outputs": [
    {
     "data": {
      "text/plain": [
       "tensor([4, 5, 6])"
      ]
     },
     "execution_count": 22,
     "metadata": {},
     "output_type": "execute_result"
    }
   ],
   "source": [
    "subset"
   ]
  },
  {
   "cell_type": "code",
   "execution_count": 23,
   "id": "ff9bbbe8",
   "metadata": {},
   "outputs": [
    {
     "data": {
      "text/plain": [
       "tensor([[0, 1],\n",
       "        [2, 2]])"
      ]
     },
     "execution_count": 23,
     "metadata": {},
     "output_type": "execute_result"
    }
   ],
   "source": [
    "edge_index"
   ]
  },
  {
   "cell_type": "code",
   "execution_count": 19,
   "id": "aef17372",
   "metadata": {},
   "outputs": [
    {
     "data": {
      "text/plain": [
       "tensor([[0., 0., 0., 0., 0., 0., 0., 0., 0., 0., 0., 0., 0., 0., 0., 0., 0., 0., 0., 0., 0., 0., 0., 0.,\n",
       "         0., 0., 0., 0., 0., 0., 0., 0., 0., 0., 0., 0., 0., 0., 0., 0., 0., 0., 0., 0., 0., 0., 0., 0.,\n",
       "         0., 0., 0., 0., 0., 0., 0., 0., 0., 0., 0., 0., 0., 0., 0., 0., 0., 0., 0., 0., 0., 0., 0., 0.,\n",
       "         0., 0., 0., 0., 0., 0., 0., 0., 0., 0., 0., 0., 0., 0., 0., 0., 0., 0., 0., 0., 0., 0., 0., 0.,\n",
       "         0., 0., 0., 0., 0., 0., 0., 0., 0., 0., 0., 0., 0., 0., 0., 0., 0., 0., 0., 0., 0., 0., 0., 0.,\n",
       "         0., 0., 0., 0., 0., 0., 0., 0., 0., 0., 0., 0., 0., 0., 0., 0., 0., 0., 0., 0., 0., 0., 0., 0.,\n",
       "         0., 0., 0., 0., 0., 0., 0., 0., 0., 0., 0., 0., 0., 0., 0., 0., 0., 0., 0., 0., 0., 0., 0., 0.,\n",
       "         0., 0., 0., 0., 0., 0., 0., 0., 0., 0., 0., 0., 0., 0., 0., 0., 0., 0., 0., 0., 0., 0., 0., 0.,\n",
       "         0., 0., 0., 0., 0., 0., 0., 0.],\n",
       "        [0., 0., 0., 0., 0., 0., 0., 0., 0., 0., 0., 0., 0., 0., 0., 0., 0., 0., 0., 0., 0., 0., 0., 0.,\n",
       "         0., 0., 0., 0., 0., 0., 0., 0., 0., 0., 0., 0., 0., 0., 0., 0., 0., 0., 0., 0., 0., 0., 0., 0.,\n",
       "         0., 0., 0., 0., 0., 0., 0., 0., 0., 0., 0., 0., 0., 0., 0., 0., 0., 0., 0., 0., 0., 0., 0., 0.,\n",
       "         0., 0., 0., 0., 0., 0., 0., 0., 0., 0., 0., 0., 0., 0., 0., 0., 0., 0., 0., 0., 0., 0., 0., 0.,\n",
       "         0., 0., 0., 0., 0., 0., 0., 0., 0., 0., 0., 0., 0., 0., 0., 0., 0., 0., 0., 0., 0., 0., 0., 0.,\n",
       "         0., 0., 0., 0., 0., 0., 0., 0., 0., 0., 0., 0., 0., 0., 0., 0., 0., 0., 0., 0., 0., 0., 0., 0.,\n",
       "         0., 0., 0., 0., 0., 0., 0., 0., 0., 0., 0., 0., 0., 0., 0., 0., 0., 0., 0., 0., 0., 0., 0., 0.,\n",
       "         0., 0., 0., 0., 0., 0., 0., 0., 0., 0., 0., 0., 0., 0., 0., 0., 0., 0., 0., 0., 0., 0., 0., 0.,\n",
       "         0., 0., 0., 0., 0., 0., 0., 0.],\n",
       "        [0., 0., 0., 0., 0., 0., 0., 0., 0., 0., 0., 0., 0., 0., 0., 0., 0., 0., 0., 0., 0., 0., 0., 0.,\n",
       "         0., 0., 0., 0., 0., 0., 0., 0., 0., 0., 0., 0., 0., 0., 0., 0., 0., 0., 0., 0., 0., 0., 0., 0.,\n",
       "         0., 0., 0., 0., 0., 0., 0., 0., 0., 0., 0., 0., 0., 0., 0., 0., 0., 0., 0., 0., 0., 0., 0., 0.,\n",
       "         0., 0., 0., 0., 0., 0., 0., 0., 0., 0., 0., 0., 0., 0., 0., 0., 0., 0., 0., 0., 0., 0., 0., 0.,\n",
       "         0., 0., 0., 0., 0., 0., 0., 0., 0., 0., 0., 0., 0., 0., 0., 0., 0., 0., 0., 0., 0., 0., 0., 0.,\n",
       "         0., 0., 0., 0., 0., 0., 0., 0., 0., 0., 0., 0., 0., 0., 0., 0., 0., 0., 0., 0., 0., 0., 0., 0.,\n",
       "         0., 0., 0., 0., 0., 0., 0., 0., 0., 0., 0., 0., 0., 0., 0., 0., 0., 0., 0., 0., 0., 0., 0., 0.,\n",
       "         0., 0., 0., 0., 0., 0., 0., 0., 0., 0., 0., 0., 0., 0., 0., 0., 0., 0., 0., 0., 0., 0., 0., 0.,\n",
       "         0., 0., 0., 0., 0., 0., 0., 0.]])"
      ]
     },
     "execution_count": 19,
     "metadata": {},
     "output_type": "execute_result"
    }
   ],
   "source": [
    "x[subset]"
   ]
  },
  {
   "cell_type": "code",
   "execution_count": 20,
   "id": "24317075",
   "metadata": {},
   "outputs": [
    {
     "data": {
      "text/plain": [
       "tensor([False, False, False, False,  True,  True])"
      ]
     },
     "execution_count": 20,
     "metadata": {},
     "output_type": "execute_result"
    }
   ],
   "source": [
    "edge_type[edge_mask]\n"
   ]
  },
  {
   "cell_type": "code",
   "execution_count": 28,
   "id": "5bc9a8d5",
   "metadata": {},
   "outputs": [],
   "source": [
    "mapping = torch.tensor([1,2,3,4])"
   ]
  },
  {
   "cell_type": "code",
   "execution_count": 35,
   "id": "50cf360e",
   "metadata": {},
   "outputs": [
    {
     "data": {
      "text/plain": [
       "2.0"
      ]
     },
     "execution_count": 35,
     "metadata": {},
     "output_type": "execute_result"
    }
   ],
   "source": [
    "mapping.size(0)/2"
   ]
  },
  {
   "cell_type": "code",
   "execution_count": 36,
   "id": "10525d59",
   "metadata": {},
   "outputs": [
    {
     "data": {
      "text/plain": [
       "(tensor([1, 2]), tensor([3, 4]))"
      ]
     },
     "execution_count": 36,
     "metadata": {},
     "output_type": "execute_result"
    }
   ],
   "source": [
    "mapping[:int(mapping.size(0)/2)], mapping[int(mapping.size(0)/2):]"
   ]
  },
  {
   "cell_type": "code",
   "execution_count": 2,
   "id": "1754dcdb",
   "metadata": {},
   "outputs": [],
   "source": [
    "import torch"
   ]
  },
  {
   "cell_type": "code",
   "execution_count": 3,
   "id": "97c9e5fe",
   "metadata": {},
   "outputs": [],
   "source": [
    "page_links = torch.load('../data/wikidata5m_inductive/page_links.pt')"
   ]
  },
  {
   "cell_type": "code",
   "execution_count": 4,
   "id": "f9e31581",
   "metadata": {},
   "outputs": [
    {
     "name": "stderr",
     "output_type": "stream",
     "text": [
      "/homes/mblum/miniconda3/envs/lp/lib/python3.10/site-packages/tqdm/auto.py:21: TqdmWarning: IProgress not found. Please update jupyter and ipywidgets. See https://ipywidgets.readthedocs.io/en/stable/user_install.html\n",
      "  from .autonotebook import tqdm as notebook_tqdm\n"
     ]
    }
   ],
   "source": [
    "from torch_geometric.utils import k_hop_subgraph"
   ]
  },
  {
   "cell_type": "code",
   "execution_count": 6,
   "id": "339fdddc",
   "metadata": {},
   "outputs": [
    {
     "data": {
      "text/plain": [
       "torch.Size([2, 100109235])"
      ]
     },
     "execution_count": 6,
     "metadata": {},
     "output_type": "execute_result"
    }
   ],
   "source": [
    "page_links.T.size()"
   ]
  },
  {
   "cell_type": "code",
   "execution_count": 14,
   "id": "a3ea185d",
   "metadata": {},
   "outputs": [],
   "source": [
    "subset, edge_index, mapping, edge_mask = k_hop_subgraph(torch.tensor([1]), 1, page_links.T, relabel_nodes=True, directed=False)"
   ]
  },
  {
   "cell_type": "code",
   "execution_count": 15,
   "id": "f7d07b43",
   "metadata": {},
   "outputs": [
    {
     "data": {
      "text/plain": [
       "tensor([      1,   54519, 2260712])"
      ]
     },
     "execution_count": 15,
     "metadata": {},
     "output_type": "execute_result"
    }
   ],
   "source": [
    "subset"
   ]
  },
  {
   "cell_type": "code",
   "execution_count": 12,
   "id": "426f2075",
   "metadata": {},
   "outputs": [
    {
     "data": {
      "text/plain": [
       "tensor([0, 1, 2, 3])"
      ]
     },
     "execution_count": 12,
     "metadata": {},
     "output_type": "execute_result"
    }
   ],
   "source": [
    "mapping"
   ]
  },
  {
   "cell_type": "code",
   "execution_count": 16,
   "id": "3731ff57",
   "metadata": {},
   "outputs": [],
   "source": [
    "import torch\n",
    "hops = torch.load(f'../data/wikidata5m_inductive/hops.pt')"
   ]
  },
  {
   "cell_type": "code",
   "execution_count": null,
   "id": "a7c9b618",
   "metadata": {},
   "outputs": [],
   "source": [
    "hops.edge_index"
   ]
  }
 ],
 "metadata": {
  "kernelspec": {
   "display_name": "Python 3 (ipykernel)",
   "language": "python",
   "name": "python3"
  },
  "language_info": {
   "codemirror_mode": {
    "name": "ipython",
    "version": 3
   },
   "file_extension": ".py",
   "mimetype": "text/x-python",
   "name": "python",
   "nbconvert_exporter": "python",
   "pygments_lexer": "ipython3",
   "version": "3.10.10"
  }
 },
 "nbformat": 4,
 "nbformat_minor": 5
}
