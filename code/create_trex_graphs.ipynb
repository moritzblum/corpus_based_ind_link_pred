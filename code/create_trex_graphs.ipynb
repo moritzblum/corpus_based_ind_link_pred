{
 "cells": [
  {
   "cell_type": "code",
   "execution_count": 2,
   "metadata": {
    "collapsed": true
   },
   "outputs": [],
   "source": [
    "import os\n",
    "import os.path as osp\n",
    "import json\n",
    "from tqdm import tqdm"
   ]
  },
  {
   "cell_type": "code",
   "execution_count": 4,
   "outputs": [],
   "source": [
    "trex_path = '../data/TREx'\n",
    "trex_files = [x for x in os.listdir(trex_path) if x.endswith('.json')]"
   ],
   "metadata": {
    "collapsed": false
   }
  },
  {
   "cell_type": "markdown",
   "source": [
    "## Extract Wikidata Triples from T-REx"
   ],
   "metadata": {
    "collapsed": false
   }
  },
  {
   "cell_type": "code",
   "execution_count": null,
   "outputs": [],
   "source": [
    "trex_triples = []\n",
    "for trex_file in tqdm(trex_files):\n",
    "    with open(osp.join(trex_path, trex_file)) as trex_in:\n",
    "        trex_json = json.load(trex_in)\n",
    "        for doc in trex_json:\n",
    "            for triple in doc['triples']:\n",
    "                subject = triple['subject']['uri']\n",
    "                predicate = triple['predicate']['uri']\n",
    "                object = triple['object']['uri']\n",
    "                if subject.startswith('http://www.wikidata.org/entity/Q') and predicate.startswith('http://www.wikidata.org/prop/direct/P') and object.startswith('http://www.wikidata.org/entity/Q'):\n",
    "                    trex_triples.append((subject.replace('http://www.wikidata.org/entity/', ''), predicate.replace('http://www.wikidata.org/prop/direct/', ''), object.replace('http://www.wikidata.org/entity/', '')))"
   ],
   "metadata": {
    "collapsed": false
   }
  },
  {
   "cell_type": "code",
   "execution_count": null,
   "outputs": [],
   "source": [
    "trex_triples = list(set(trex_triples))\n",
    "with open('../data/corpus_graphs/trex_triples.txt', 'w') as trex_triples_out:\n",
    "    for triple in trex_triples:\n",
    "        trex_triples_out.write('\\t'.join(triple) + '\\n')"
   ],
   "metadata": {
    "collapsed": false
   }
  },
  {
   "cell_type": "markdown",
   "source": [
    "## Extract Page Links from T-REx"
   ],
   "metadata": {
    "collapsed": false
   }
  },
  {
   "cell_type": "code",
   "execution_count": null,
   "outputs": [],
   "source": [
    "trex_path = '../data/TREx'\n",
    "trex_files = [x for x in os.listdir(trex_path) if x.endswith('.json')]\n",
    "trex_page_links = []\n",
    "for trex_file in tqdm(trex_files):\n",
    "    with open(osp.join(trex_path, trex_file)) as trex_in:\n",
    "        trex_json = json.load(trex_in)\n",
    "        for doc in trex_json:\n",
    "            for entity in doc['entities']:\n",
    "                if entity['uri'].startswith('http://www.wikidata.org/entity/Q'):\n",
    "                    trex_page_links.append((doc['uri'].replace('http://www.wikidata.org/entity/', ''),\n",
    "                                           'PageLink',\n",
    "                                           entity['uri'].replace('http://www.wikidata.org/entity/', '')))"
   ],
   "metadata": {
    "collapsed": false
   }
  },
  {
   "cell_type": "code",
   "execution_count": null,
   "outputs": [],
   "source": [
    "trex_page_links = list(set(trex_page_links))\n",
    "with open('../data/corpus_graphs/trex_page_links.txt', 'w') as trex_triples_out:\n",
    "    for triple in trex_page_links:\n",
    "        trex_triples_out.write('\\t'.join(triple) + '\\n')"
   ],
   "metadata": {
    "collapsed": false
   }
  },
  {
   "cell_type": "markdown",
   "source": [
    "## Create a joint dataset of Wikidata Triples and Page Links in T-REx"
   ],
   "metadata": {
    "collapsed": false
   }
  },
  {
   "cell_type": "code",
   "execution_count": null,
   "outputs": [],
   "source": [
    "with open('../data/corpus_graphs/trex_page_links.txt', 'w') as trex_all_out:\n",
    "    with open('../data/corpus_graphs/trex_triples.txt', 'r') as trex_triples_in:\n",
    "        for line in trex_triples_in:\n",
    "            trex_all_out.write(line)\n",
    "    with open('../data/corpus_graphs/trex_page_links.txt', 'r') as trex_page_links_in:\n",
    "        for line in trex_page_links_in:\n",
    "            trex_all_out.write(line)"
   ],
   "metadata": {
    "collapsed": false
   }
  },
  {
   "cell_type": "markdown",
   "source": [
    "## Create text feature file from T-REx"
   ],
   "metadata": {
    "collapsed": false
   }
  },
  {
   "cell_type": "code",
   "execution_count": 13,
   "outputs": [
    {
     "name": "stderr",
     "output_type": "stream",
     "text": [
      "100%|██████████| 465/465 [11:19<00:00,  1.46s/it]\n"
     ]
    }
   ],
   "source": [
    "title_dic = {}\n",
    "first_sentence_dict = {}\n",
    "\n",
    "for trex_file in tqdm(trex_files):\n",
    "    with open(osp.join(trex_path, trex_file)) as trex_in:\n",
    "        trex_json = json.load(trex_in)\n",
    "        for doc in trex_json:\n",
    "            uri = doc['uri'].replace('http://www.wikidata.org/entity/', '')\n",
    "            title_dic[uri] = doc['title']\n",
    "            first_sentence_dict[uri] = doc['text'][doc['sentences_boundaries'][0][0]:doc['sentences_boundaries'][0][1]]"
   ],
   "metadata": {
    "collapsed": false
   }
  },
  {
   "cell_type": "code",
   "execution_count": 18,
   "outputs": [],
   "source": [
    "with open('../data/corpus_graphs/entity_title.txt', 'w') as trex_title_out:\n",
    "    for entity, title in title_dic.items():\n",
    "        trex_title_out.write(entity + '\\t' + title + '\\n')"
   ],
   "metadata": {
    "collapsed": false
   }
  },
  {
   "cell_type": "code",
   "execution_count": 22,
   "outputs": [],
   "source": [
    "with open('../data/corpus_graphs/entity_description_first_sentence.txt', 'w') as trex_description_out:\n",
    "    for entity, description in first_sentence_dict.items():\n",
    "        description_cleaned = description.replace('\\n', ' ')  # just for safety\n",
    "        trex_description_out.write(entity + '\\t' + description_cleaned + '\\n')"
   ],
   "metadata": {
    "collapsed": false
   }
  },
  {
   "cell_type": "code",
   "execution_count": 1,
   "outputs": [
    {
     "data": {
      "text/plain": "tensor([[1, 2, 1, 2],\n        [3, 1, 3, 1]])"
     },
     "execution_count": 1,
     "metadata": {},
     "output_type": "execute_result"
    }
   ],
   "source": [
    "import torch\n",
    "x = torch.tensor([[1,2],[3,1]])\n",
    "y = torch.tensor([[1,2],[3,1]])\n",
    "\n",
    "torch.cat((x,y), dim=1)"
   ],
   "metadata": {
    "collapsed": false
   }
  },
  {
   "cell_type": "code",
   "execution_count": 12,
   "outputs": [
    {
     "data": {
      "text/plain": "tensor([[3, 1]])"
     },
     "execution_count": 12,
     "metadata": {},
     "output_type": "execute_result"
    }
   ],
   "source": [
    "x[~torch.tensor([True, False])]\n"
   ],
   "metadata": {
    "collapsed": false
   }
  },
  {
   "cell_type": "code",
   "execution_count": 1,
   "outputs": [
    {
     "data": {
      "text/plain": "tensor([[1, 2, 3],\n        [1, 2, 3]])"
     },
     "execution_count": 1,
     "metadata": {},
     "output_type": "execute_result"
    }
   ],
   "source": [
    "import torch\n",
    "\n",
    "x = torch.tensor([1,2,3])\n",
    "y = torch.tensor([1,2,3])\n",
    "torch.stack([x,y], dim=0)"
   ],
   "metadata": {
    "collapsed": false
   }
  },
  {
   "cell_type": "code",
   "execution_count": 14,
   "outputs": [
    {
     "data": {
      "text/plain": "tensor([6, 7, 8])"
     },
     "execution_count": 14,
     "metadata": {},
     "output_type": "execute_result"
    }
   ],
   "source": [
    "x + 5"
   ],
   "metadata": {
    "collapsed": false
   }
  },
  {
   "cell_type": "code",
   "execution_count": 24,
   "outputs": [],
   "source": [
    "from torch_geometric.utils import k_hop_subgraph\n",
    "\n",
    "subset, edge_index, mapping, edge_mask = k_hop_subgraph([1], 1, torch.tensor([[0,4,4,6,2,4],[5,7,5,7,6,5]]), relabel_nodes=False, flow=\"source_to_target\")\n"
   ],
   "metadata": {
    "collapsed": false
   }
  },
  {
   "cell_type": "code",
   "execution_count": 25,
   "outputs": [
    {
     "data": {
      "text/plain": "tensor([], size=(2, 0), dtype=torch.int64)"
     },
     "execution_count": 25,
     "metadata": {},
     "output_type": "execute_result"
    }
   ],
   "source": [
    "edge_index"
   ],
   "metadata": {
    "collapsed": false
   }
  },
  {
   "cell_type": "code",
   "execution_count": 26,
   "outputs": [
    {
     "data": {
      "text/plain": "tensor(34)"
     },
     "execution_count": 26,
     "metadata": {},
     "output_type": "execute_result"
    }
   ],
   "source": [
    "torch.max(torch.tensor([[1,2,34], [5,2,5]]))"
   ],
   "metadata": {
    "collapsed": false
   }
  },
  {
   "cell_type": "code",
   "execution_count": null,
   "outputs": [],
   "source": [],
   "metadata": {
    "collapsed": false,
    "pycharm": {
     "is_executing": true
    }
   }
  },
  {
   "cell_type": "code",
   "execution_count": 26,
   "outputs": [],
   "source": [],
   "metadata": {
    "collapsed": false
   }
  }
 ],
 "metadata": {
  "kernelspec": {
   "display_name": "Python 3",
   "language": "python",
   "name": "python3"
  },
  "language_info": {
   "codemirror_mode": {
    "name": "ipython",
    "version": 2
   },
   "file_extension": ".py",
   "mimetype": "text/x-python",
   "name": "python",
   "nbconvert_exporter": "python",
   "pygments_lexer": "ipython2",
   "version": "2.7.6"
  }
 },
 "nbformat": 4,
 "nbformat_minor": 0
}
