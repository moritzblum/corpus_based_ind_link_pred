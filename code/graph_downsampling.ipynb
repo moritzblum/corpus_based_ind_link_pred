{
 "cells": [
  {
   "cell_type": "code",
   "execution_count": 9,
   "outputs": [],
   "source": [
    "import os.path as osp\n",
    "import random\n",
    "import json\n",
    "import torch\n",
    "\n",
    "from torch_geometric.data import Data\n",
    "from torch_geometric.utils import subgraph, k_hop_subgraph"
   ],
   "metadata": {
    "collapsed": false
   }
  },
  {
   "cell_type": "code",
   "execution_count": 10,
   "outputs": [],
   "source": [
    "DATA_PATH = '../data/wikidata5m_inductive'\n",
    "ENTITY_2_ID_PATH = osp.join(DATA_PATH, 'uri_to_id.json')\n",
    "RELATION_2_ID_PATH = osp.join(DATA_PATH, 'relation_uri_to_id.json')\n",
    "\n",
    "with open(ENTITY_2_ID_PATH) as uri_to_id_in:\n",
    "    uri_to_id = json.load(uri_to_id_in)\n",
    "\n",
    "with open(RELATION_2_ID_PATH) as uri_to_id_in:\n",
    "    relation_uri_to_id = json.load(uri_to_id_in)\n"
   ],
   "metadata": {
    "collapsed": false
   }
  },
  {
   "cell_type": "code",
   "execution_count": 11,
   "metadata": {
    "collapsed": true
   },
   "outputs": [],
   "source": [
    "data_train = torch.load(f'../data/wikidata5m_inductive/train.pt')\n",
    "data_val = torch.load(f'../data/wikidata5m_inductive/val.pt')\n",
    "data_test = torch.load(f'../data/wikidata5m_inductive/test.pt')"
   ]
  },
  {
   "cell_type": "code",
   "execution_count": 30,
   "outputs": [],
   "source": [
    "entities = list(uri_to_id.keys())\n",
    "\n",
    "random.shuffle(entities)"
   ],
   "metadata": {
    "collapsed": false
   }
  },
  {
   "cell_type": "code",
   "execution_count": 71,
   "outputs": [],
   "source": [
    "subset_nodes = [uri_to_id[e] for e in entities[:100000]]\n",
    "\n",
    "subset, train_edge_index_new, mapping, edge_mask = k_hop_subgraph(subset_nodes,\n",
    "                                                                  num_hops=1,\n",
    "                                                                  num_nodes=len(uri_to_id.keys()),\n",
    "                                                                  edge_index=data_train.edge_index.type(torch.int64))\n",
    "\n",
    "train_edge_type_new = data_train.edge_type[edge_mask]\n",
    "\n",
    "data_train_sample = Data(edge_index=train_edge_index_new, edge_type=train_edge_type_new)\n",
    "torch.save(data_train_sample, '../data/wikidata5m_inductive/train_sample.pt')"
   ],
   "metadata": {
    "collapsed": false
   }
  },
  {
   "cell_type": "code",
   "execution_count": 62,
   "outputs": [
    {
     "data": {
      "text/plain": "torch.Size([2, 6699])"
     },
     "execution_count": 62,
     "metadata": {},
     "output_type": "execute_result"
    }
   ],
   "source": [
    "data_val.edge_index.size()"
   ],
   "metadata": {
    "collapsed": false
   }
  },
  {
   "cell_type": "code",
   "execution_count": 72,
   "outputs": [],
   "source": [
    "from torch_geometric.utils import dropout_edge\n",
    "\n",
    "maintain = 0.1\n",
    "val_edge_index_new, edge_mask = dropout_edge(data_val.edge_index, p= 1 - maintain)\n",
    "val_edge_type_new = data_val.edge_type[edge_mask]\n",
    "data_val_sample = Data(edge_index=val_edge_index_new, edge_type=val_edge_type_new)\n",
    "torch.save(data_val_sample, '../data/wikidata5m_inductive/val_sample.pt')\n",
    "\n",
    "test_edge_index_new, edge_mask = dropout_edge(data_test.edge_index, p= 1 - maintain)\n",
    "test_edge_type_new = data_test.edge_type[edge_mask]\n",
    "data_test_sample = Data(edge_index=test_edge_index_new, edge_type=test_edge_type_new)\n",
    "torch.save(data_test_sample, '../data/wikidata5m_inductive/test_sample.pt')"
   ],
   "metadata": {
    "collapsed": false
   }
  },
  {
   "cell_type": "code",
   "execution_count": 73,
   "outputs": [
    {
     "data": {
      "text/plain": "torch.Size([2, 656])"
     },
     "execution_count": 73,
     "metadata": {},
     "output_type": "execute_result"
    }
   ],
   "source": [
    "test_edge_index_new.size()"
   ],
   "metadata": {
    "collapsed": false
   }
  },
  {
   "cell_type": "code",
   "execution_count": 52,
   "outputs": [],
   "source": [],
   "metadata": {
    "collapsed": false
   }
  },
  {
   "cell_type": "code",
   "execution_count": 52,
   "outputs": [],
   "source": [],
   "metadata": {
    "collapsed": false
   }
  }
 ],
 "metadata": {
  "kernelspec": {
   "display_name": "Python 3",
   "language": "python",
   "name": "python3"
  },
  "language_info": {
   "codemirror_mode": {
    "name": "ipython",
    "version": 2
   },
   "file_extension": ".py",
   "mimetype": "text/x-python",
   "name": "python",
   "nbconvert_exporter": "python",
   "pygments_lexer": "ipython2",
   "version": "2.7.6"
  }
 },
 "nbformat": 4,
 "nbformat_minor": 0
}
