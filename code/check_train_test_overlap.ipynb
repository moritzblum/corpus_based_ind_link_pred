{
 "cells": [
  {
   "cell_type": "code",
   "execution_count": 19,
   "metadata": {
    "collapsed": true
   },
   "outputs": [],
   "source": [
    "import pandas as pd\n",
    "train_graph = '../data/corpus_graphs/trex_triples_filtered_ilpc_train.txt'\n",
    "test_graph = '../data/ilpc/raw/small/inference_test.txt'\n",
    "\n",
    "train_triple_df = pd.read_csv(train_graph, delimiter='\\t', header=None)\n",
    "train_triples = list(train_triple_df.itertuples(index=False, name=None))\n",
    "\n",
    "test_triple_df = pd.read_csv(test_graph, delimiter='\\t', header=None)\n",
    "test_triples = list(test_triple_df.itertuples(index=False, name=None))\n"
   ]
  },
  {
   "cell_type": "markdown",
   "source": [
    "## Compute the overlap of triples in the LP test set with the triples in our graph"
   ],
   "metadata": {
    "collapsed": false
   }
  },
  {
   "cell_type": "code",
   "execution_count": 1,
   "outputs": [
    {
     "ename": "NameError",
     "evalue": "name 'train_triples' is not defined",
     "output_type": "error",
     "traceback": [
      "\u001B[0;31m---------------------------------------------------------------------------\u001B[0m",
      "\u001B[0;31mNameError\u001B[0m                                 Traceback (most recent call last)",
      "Cell \u001B[0;32mIn[1], line 1\u001B[0m\n\u001B[0;32m----> 1\u001B[0m \u001B[38;5;28mlen\u001B[39m(\u001B[38;5;28mset\u001B[39m(\u001B[43mtrain_triples\u001B[49m)\u001B[38;5;241m.\u001B[39mintersection(\u001B[38;5;28mset\u001B[39m(test_triples)))\n",
      "\u001B[0;31mNameError\u001B[0m: name 'train_triples' is not defined"
     ]
    }
   ],
   "source": [
    "len(set(train_triples).intersection(set(test_triples)))"
   ],
   "metadata": {
    "collapsed": false
   }
  },
  {
   "cell_type": "code",
   "execution_count": 1,
   "outputs": [],
   "source": [],
   "metadata": {
    "collapsed": false
   }
  },
  {
   "cell_type": "code",
   "execution_count": 23,
   "outputs": [],
   "source": [
    "import torch\n",
    "bs = 10"
   ],
   "metadata": {
    "collapsed": false
   }
  },
  {
   "cell_type": "code",
   "execution_count": 24,
   "outputs": [],
   "source": [
    "x = torch.ones((bs, 768))"
   ],
   "metadata": {
    "collapsed": false
   }
  },
  {
   "cell_type": "code",
   "execution_count": 25,
   "outputs": [
    {
     "data": {
      "text/plain": "torch.Size([10, 1, 2, 384])"
     },
     "execution_count": 25,
     "metadata": {},
     "output_type": "execute_result"
    }
   ],
   "source": [
    "x_re = x.reshape((bs, 1, 2,-1))\n",
    "x_re.size()"
   ],
   "metadata": {
    "collapsed": false
   }
  },
  {
   "cell_type": "code",
   "execution_count": 26,
   "outputs": [
    {
     "data": {
      "text/plain": "torch.Size([10, 10, 1, 96])"
     },
     "execution_count": 26,
     "metadata": {},
     "output_type": "execute_result"
    }
   ],
   "source": [
    "conv1 = torch.nn.Conv2d(1, bs, (2, 2), 4, 0)\n",
    "x_conv = torch.relu(conv1(x_re))\n",
    "x_conv.size()\n",
    "\n",
    "x_conv = dropout(x_conv)"
   ],
   "metadata": {
    "collapsed": false
   }
  },
  {
   "cell_type": "code",
   "execution_count": 29,
   "outputs": [],
   "source": [
    "x_flat = x_conv.flatten().reshape((bs, -1))\n",
    "x_flat.size()"
   ],
   "metadata": {
    "collapsed": false
   }
  },
  {
   "cell_type": "code",
   "execution_count": 31,
   "outputs": [],
   "source": [
    "embedding_dim = 500\n",
    "linear = torch.nn.Linear(960, embedding_dim)"
   ],
   "metadata": {
    "collapsed": false
   }
  },
  {
   "cell_type": "code",
   "execution_count": 32,
   "outputs": [],
   "source": [
    "x_final = linear(x_flat)"
   ],
   "metadata": {
    "collapsed": false
   }
  },
  {
   "cell_type": "code",
   "execution_count": 34,
   "outputs": [
    {
     "data": {
      "text/plain": "torch.Size([10, 500])"
     },
     "execution_count": 34,
     "metadata": {},
     "output_type": "execute_result"
    }
   ],
   "source": [
    "x_final.size()"
   ],
   "metadata": {
    "collapsed": false
   }
  },
  {
   "cell_type": "code",
   "execution_count": 1,
   "outputs": [],
   "source": [
    "import torch"
   ],
   "metadata": {
    "collapsed": false
   }
  },
  {
   "cell_type": "code",
   "execution_count": 4,
   "outputs": [],
   "source": [
    "x=torch.tensor([[[1,2,3],[4,5,6]],[[7,8,9],[10,11,12]]])"
   ],
   "metadata": {
    "collapsed": false
   }
  },
  {
   "cell_type": "code",
   "execution_count": 6,
   "outputs": [
    {
     "data": {
      "text/plain": "tensor([[ 1,  2,  3,  4,  5,  6],\n        [ 7,  8,  9, 10, 11, 12]])"
     },
     "execution_count": 6,
     "metadata": {},
     "output_type": "execute_result"
    }
   ],
   "source": [
    "x.flatten().reshape((2, -1))"
   ],
   "metadata": {
    "collapsed": false
   }
  },
  {
   "cell_type": "code",
   "execution_count": null,
   "outputs": [],
   "source": [],
   "metadata": {
    "collapsed": false
   }
  },
  {
   "cell_type": "code",
   "execution_count": 9,
   "outputs": [
    {
     "name": "stdout",
     "output_type": "stream",
     "text": [
      "tensor([[[[ 0.0196,  0.0629,  0.0113, -0.0130,  0.0345, -0.0062],\n",
      "          [ 0.0074,  0.0160, -0.0298,  0.0135,  0.0214, -0.0096]]]])\n",
      "tensor([[[[0.3360, 0.3232, 0.3438, 0.3439, 0.3299, 0.3455]]]],\n",
      "       grad_fn=<SigmoidBackward0>)\n"
     ]
    },
    {
     "name": "stderr",
     "output_type": "stream",
     "text": [
      "<ipython-input-9-9a17e629dd26>:12: UserWarning: nn.init.xavier_uniform is now deprecated in favor of nn.init.xavier_uniform_.\n",
      "  torch.nn.init.xavier_uniform(conv1.weight)\n"
     ]
    }
   ],
   "source": [
    "import torch\n",
    "\n",
    "x = torch.tensor([[1.9604e-02,  6.2937e-02,  1.1282e-02, -1.2976e-02,  3.4542e-02,\n",
    "        -6.2316e-03,  7.3689e-03,  1.5995e-02, -2.9797e-02,  1.3459e-02,\n",
    "         2.1407e-02, -9.6071e-03]])\n",
    "bs = x.size(0)\n",
    "\n",
    "x = x.reshape((bs, 1, 2,-1))\n",
    "print(x)\n",
    "\n",
    "conv1 = torch.nn.Conv2d(1, 1, (2, 1), 1, 0)\n",
    "torch.nn.init.xavier_uniform(conv1.weight)\n",
    "\n",
    "xs_head = torch.sigmoid(conv1(x))\n",
    "print(xs_head)"
   ],
   "metadata": {
    "collapsed": false
   }
  },
  {
   "cell_type": "markdown",
   "source": [],
   "metadata": {
    "collapsed": false
   }
  },
  {
   "cell_type": "code",
   "execution_count": 35,
   "outputs": [
    {
     "data": {
      "text/plain": "tensor([[0.8868, 1.2021, 0.0000, 0.1207, 0.9510, 1.5009, 0.3355, 0.6886],\n        [1.5549, 1.9498, 0.5409, 1.4537, 2.0696, 1.8772, 1.0826, 1.5081],\n        [2.2604, 2.6974, 1.3812, 2.7866, 3.2069, 2.2535, 1.8707, 2.3276]],\n       grad_fn=<ViewBackward0>)"
     },
     "execution_count": 35,
     "metadata": {},
     "output_type": "execute_result"
    }
   ],
   "source": [
    "xs_head.view(3, -1)"
   ],
   "metadata": {
    "collapsed": false
   }
  },
  {
   "cell_type": "code",
   "execution_count": 15,
   "outputs": [
    {
     "data": {
      "text/plain": "[1, 4, 3, 6]"
     },
     "execution_count": 15,
     "metadata": {},
     "output_type": "execute_result"
    }
   ],
   "source": [
    "x = torch.tensor([[1,2,3],[4,5,6]])\n",
    "x[:, 0].tolist() + x[:, 2].tolist()"
   ],
   "metadata": {
    "collapsed": false
   }
  },
  {
   "cell_type": "code",
   "execution_count": 12,
   "outputs": [
    {
     "data": {
      "text/plain": "tensor([1, 2, 3, 2, 3, 3, 2, 1, 1, 3])"
     },
     "execution_count": 12,
     "metadata": {},
     "output_type": "execute_result"
    }
   ],
   "source": [
    "import torch\n",
    "from numpy.random import choice\n",
    "import numpy as np\n",
    "\n",
    "ids = np.array([1,2,3])\n",
    "torch.from_numpy(choice(a=ids, size=10))"
   ],
   "metadata": {
    "collapsed": false
   }
  },
  {
   "cell_type": "code",
   "execution_count": 14,
   "outputs": [
    {
     "data": {
      "text/plain": "array([1, 2, 3, 4])"
     },
     "execution_count": 14,
     "metadata": {},
     "output_type": "execute_result"
    }
   ],
   "source": [
    "torch.unique(torch.tensor([1,2,3,4])).numpy()"
   ],
   "metadata": {
    "collapsed": false
   }
  },
  {
   "cell_type": "code",
   "execution_count": 17,
   "outputs": [],
   "source": [
    "from torch_geometric.utils import subgraph\n",
    "\n",
    "edge_index = torch.tensor([[0, 1, 1, 2, 2, 3, 3, 4, 4, 5, 5, 6], [1, 0, 2, 1, 3, 2, 4, 3, 5, 4, 6, 5]])\n",
    "edge_attr = torch.tensor([1, 2, 3, 4, 5, 6, 7, 8, 9, 10, 11, 12])\n",
    "subset = torch.tensor([3, 4, 5])\n",
    "x, y = subgraph(subset, edge_index, edge_attr)"
   ],
   "metadata": {
    "collapsed": false
   }
  },
  {
   "cell_type": "code",
   "execution_count": 18,
   "outputs": [],
   "source": [
    "z = torch.tensor([[1,2,3], [4,5,6]])\n"
   ],
   "metadata": {
    "collapsed": false
   }
  },
  {
   "cell_type": "code",
   "execution_count": 20,
   "outputs": [
    {
     "data": {
      "text/plain": "tensor([[3, 4, 4, 5, 1, 2, 3],\n        [4, 3, 5, 4, 4, 5, 6]])"
     },
     "execution_count": 20,
     "metadata": {},
     "output_type": "execute_result"
    }
   ],
   "source": [
    "torch.cat((x,z), dim=1)"
   ],
   "metadata": {
    "collapsed": false
   }
  },
  {
   "cell_type": "code",
   "execution_count": null,
   "outputs": [],
   "source": [],
   "metadata": {
    "collapsed": false
   }
  }
 ],
 "metadata": {
  "kernelspec": {
   "display_name": "Python 3",
   "language": "python",
   "name": "python3"
  },
  "language_info": {
   "codemirror_mode": {
    "name": "ipython",
    "version": 2
   },
   "file_extension": ".py",
   "mimetype": "text/x-python",
   "name": "python",
   "nbconvert_exporter": "python",
   "pygments_lexer": "ipython2",
   "version": "2.7.6"
  }
 },
 "nbformat": 4,
 "nbformat_minor": 0
}
