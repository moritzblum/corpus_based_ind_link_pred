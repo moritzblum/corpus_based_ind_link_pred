{
 "cells": [
  {
   "cell_type": "code",
   "execution_count": 6,
   "metadata": {
    "collapsed": true
   },
   "outputs": [],
   "source": [
    "from sklearn.feature_extraction.text import TfidfVectorizer\n",
    "from tqdm import tqdm\n",
    "from sklearn.metrics.pairwise import cosine_similarity\n",
    "import json\n",
    "import torch\n",
    "import json"
   ]
  },
  {
   "cell_type": "code",
   "execution_count": 17,
   "outputs": [],
   "source": [
    "corpus_inductive = []\n",
    "corpus_all = []\n",
    "\n",
    "with open('../data/wikidata5m_inductive/uri_to_id.json') as i:\n",
    "    uri_to_id = json.load(i)\n",
    "\n",
    "data_val = torch.load(f'../data/wikidata5m_inductive/val.pt')\n",
    "data_test = torch.load(f'../data/wikidata5m_inductive/test.pt')\n",
    "\n",
    "inductive_entities = torch.unique(torch.cat((data_val.edge_index[0],\n",
    "                                                     data_val.edge_index[1],\n",
    "                                                     data_test.edge_index[0],\n",
    "                                                     data_test.edge_index[1]))).tolist()\n",
    "\n"
   ],
   "metadata": {
    "collapsed": false
   }
  },
  {
   "cell_type": "code",
   "execution_count": 19,
   "outputs": [
    {
     "name": "stderr",
     "output_type": "stream",
     "text": [
      " 96%|█████████▋| 4815483/5000000 [05:54<00:13, 13579.50it/s]\n"
     ]
    }
   ],
   "source": [
    "with open('../data/wikidata5m_inductive/wikidata5m_text.txt') as descriptions_in:\n",
    "    for line in tqdm(descriptions_in, total=5000000):\n",
    "        splitted = line.split('\\t')\n",
    "        uri, description = splitted[0], splitted[1]\n",
    "        if uri_to_id[uri] not in inductive_entities:\n",
    "            corpus_inductive.append(description)\n",
    "        corpus_all.append(description)"
   ],
   "metadata": {
    "collapsed": false
   }
  },
  {
   "cell_type": "code",
   "execution_count": 20,
   "outputs": [
    {
     "data": {
      "text/plain": "TfidfVectorizer(stop_words='english')",
      "text/html": "<style>#sk-container-id-1 {color: black;background-color: white;}#sk-container-id-1 pre{padding: 0;}#sk-container-id-1 div.sk-toggleable {background-color: white;}#sk-container-id-1 label.sk-toggleable__label {cursor: pointer;display: block;width: 100%;margin-bottom: 0;padding: 0.3em;box-sizing: border-box;text-align: center;}#sk-container-id-1 label.sk-toggleable__label-arrow:before {content: \"▸\";float: left;margin-right: 0.25em;color: #696969;}#sk-container-id-1 label.sk-toggleable__label-arrow:hover:before {color: black;}#sk-container-id-1 div.sk-estimator:hover label.sk-toggleable__label-arrow:before {color: black;}#sk-container-id-1 div.sk-toggleable__content {max-height: 0;max-width: 0;overflow: hidden;text-align: left;background-color: #f0f8ff;}#sk-container-id-1 div.sk-toggleable__content pre {margin: 0.2em;color: black;border-radius: 0.25em;background-color: #f0f8ff;}#sk-container-id-1 input.sk-toggleable__control:checked~div.sk-toggleable__content {max-height: 200px;max-width: 100%;overflow: auto;}#sk-container-id-1 input.sk-toggleable__control:checked~label.sk-toggleable__label-arrow:before {content: \"▾\";}#sk-container-id-1 div.sk-estimator input.sk-toggleable__control:checked~label.sk-toggleable__label {background-color: #d4ebff;}#sk-container-id-1 div.sk-label input.sk-toggleable__control:checked~label.sk-toggleable__label {background-color: #d4ebff;}#sk-container-id-1 input.sk-hidden--visually {border: 0;clip: rect(1px 1px 1px 1px);clip: rect(1px, 1px, 1px, 1px);height: 1px;margin: -1px;overflow: hidden;padding: 0;position: absolute;width: 1px;}#sk-container-id-1 div.sk-estimator {font-family: monospace;background-color: #f0f8ff;border: 1px dotted black;border-radius: 0.25em;box-sizing: border-box;margin-bottom: 0.5em;}#sk-container-id-1 div.sk-estimator:hover {background-color: #d4ebff;}#sk-container-id-1 div.sk-parallel-item::after {content: \"\";width: 100%;border-bottom: 1px solid gray;flex-grow: 1;}#sk-container-id-1 div.sk-label:hover label.sk-toggleable__label {background-color: #d4ebff;}#sk-container-id-1 div.sk-serial::before {content: \"\";position: absolute;border-left: 1px solid gray;box-sizing: border-box;top: 0;bottom: 0;left: 50%;z-index: 0;}#sk-container-id-1 div.sk-serial {display: flex;flex-direction: column;align-items: center;background-color: white;padding-right: 0.2em;padding-left: 0.2em;position: relative;}#sk-container-id-1 div.sk-item {position: relative;z-index: 1;}#sk-container-id-1 div.sk-parallel {display: flex;align-items: stretch;justify-content: center;background-color: white;position: relative;}#sk-container-id-1 div.sk-item::before, #sk-container-id-1 div.sk-parallel-item::before {content: \"\";position: absolute;border-left: 1px solid gray;box-sizing: border-box;top: 0;bottom: 0;left: 50%;z-index: -1;}#sk-container-id-1 div.sk-parallel-item {display: flex;flex-direction: column;z-index: 1;position: relative;background-color: white;}#sk-container-id-1 div.sk-parallel-item:first-child::after {align-self: flex-end;width: 50%;}#sk-container-id-1 div.sk-parallel-item:last-child::after {align-self: flex-start;width: 50%;}#sk-container-id-1 div.sk-parallel-item:only-child::after {width: 0;}#sk-container-id-1 div.sk-dashed-wrapped {border: 1px dashed gray;margin: 0 0.4em 0.5em 0.4em;box-sizing: border-box;padding-bottom: 0.4em;background-color: white;}#sk-container-id-1 div.sk-label label {font-family: monospace;font-weight: bold;display: inline-block;line-height: 1.2em;}#sk-container-id-1 div.sk-label-container {text-align: center;}#sk-container-id-1 div.sk-container {/* jupyter's `normalize.less` sets `[hidden] { display: none; }` but bootstrap.min.css set `[hidden] { display: none !important; }` so we also need the `!important` here to be able to override the default hidden behavior on the sphinx rendered scikit-learn.org. See: https://github.com/scikit-learn/scikit-learn/issues/21755 */display: inline-block !important;position: relative;}#sk-container-id-1 div.sk-text-repr-fallback {display: none;}</style><div id=\"sk-container-id-1\" class=\"sk-top-container\"><div class=\"sk-text-repr-fallback\"><pre>TfidfVectorizer(stop_words=&#x27;english&#x27;)</pre><b>In a Jupyter environment, please rerun this cell to show the HTML representation or trust the notebook. <br />On GitHub, the HTML representation is unable to render, please try loading this page with nbviewer.org.</b></div><div class=\"sk-container\" hidden><div class=\"sk-item\"><div class=\"sk-estimator sk-toggleable\"><input class=\"sk-toggleable__control sk-hidden--visually\" id=\"sk-estimator-id-1\" type=\"checkbox\" checked><label for=\"sk-estimator-id-1\" class=\"sk-toggleable__label sk-toggleable__label-arrow\">TfidfVectorizer</label><div class=\"sk-toggleable__content\"><pre>TfidfVectorizer(stop_words=&#x27;english&#x27;)</pre></div></div></div></div></div>"
     },
     "execution_count": 20,
     "metadata": {},
     "output_type": "execute_result"
    }
   ],
   "source": [
    "vectorizer = TfidfVectorizer(stop_words='english')\n",
    "vectorizer.fit(corpus_inductive)"
   ],
   "metadata": {
    "collapsed": false
   }
  },
  {
   "cell_type": "code",
   "execution_count": 21,
   "outputs": [],
   "source": [
    "x = vectorizer.transform(corpus_all)"
   ],
   "metadata": {
    "collapsed": false
   }
  },
  {
   "cell_type": "code",
   "execution_count": 13,
   "outputs": [
    {
     "name": "stdout",
     "output_type": "stream",
     "text": [
      "  (0, 2811113)\t0.07727453986632345\n",
      "  (0, 591485)\t0.03822560152626008\n",
      "  (0, 3188771)\t0.05791699696250275\n",
      "  (0, 278475)\t0.06548163128792112\n",
      "  (0, 1752684)\t0.02875625634386119\n",
      "  (0, 178357)\t0.07057612122963013\n",
      "  (0, 1003523)\t0.05353696127383455\n",
      "  (0, 462799)\t0.06212207198635179\n",
      "  (0, 1457672)\t0.06626762035789545\n",
      "  (0, 3334620)\t0.07117357227136162\n",
      "  (0, 1089212)\t0.05709775258951615\n",
      "  (0, 1996394)\t0.05306103452079006\n",
      "  (0, 1457626)\t0.04814321408325634\n",
      "  (0, 1115520)\t0.08084428555087406\n",
      "  (0, 168093)\t0.04110769635306805\n",
      "  (0, 1224498)\t0.0388947556378214\n",
      "  (0, 3306088)\t0.03701311608628776\n",
      "  (0, 1463480)\t0.07080534382978969\n",
      "  (0, 2876665)\t0.1608599386398331\n",
      "  (0, 1446713)\t0.08560222366113351\n",
      "  (0, 1368377)\t0.04810711665636337\n",
      "  (0, 3277599)\t0.0514313251459881\n",
      "  (0, 3338897)\t0.039357291731695734\n",
      "  (0, 986970)\t0.1319554820034015\n",
      "  (0, 1742037)\t0.03778465593108841\n",
      "  :\t:\n",
      "  (0, 2568186)\t0.11201105768633043\n",
      "  (0, 545450)\t0.035673874159226536\n",
      "  (0, 1801977)\t0.035715071216500485\n",
      "  (0, 1240674)\t0.044838350029598836\n",
      "  (0, 1140317)\t0.06678367352234951\n",
      "  (0, 467522)\t0.04355764415018202\n",
      "  (0, 606342)\t0.0475543137012133\n",
      "  (0, 2319581)\t0.06125628423638773\n",
      "  (0, 885007)\t0.04776498578008378\n",
      "  (0, 1246747)\t0.03576799918423625\n",
      "  (0, 2035282)\t0.05028863049552952\n",
      "  (0, 2128162)\t0.03275901092932529\n",
      "  (0, 2914641)\t0.07408410718974068\n",
      "  (0, 3036712)\t0.057716488634074255\n",
      "  (0, 1827640)\t0.04028160814918178\n",
      "  (0, 1813184)\t0.025011910222484966\n",
      "  (0, 700798)\t0.0807033147356014\n",
      "  (0, 2310316)\t0.12134223715275559\n",
      "  (0, 1001787)\t0.06596553072351263\n",
      "  (0, 688213)\t0.3193380897740674\n",
      "  (0, 526156)\t0.264023747784398\n",
      "  (0, 1818565)\t0.21251338586021223\n",
      "  (0, 1913548)\t0.18767904906783153\n",
      "  (0, 1867661)\t0.4327266477963736\n",
      "  (0, 2886292)\t0.2415387218083644\n"
     ]
    }
   ],
   "source": [
    "print(x[0])"
   ],
   "metadata": {
    "collapsed": false
   }
  },
  {
   "cell_type": "code",
   "execution_count": 16,
   "outputs": [
    {
     "name": "stdout",
     "output_type": "stream",
     "text": [
      "  (0, 3029257)\t1.0\n"
     ]
    }
   ],
   "source": [],
   "metadata": {
    "collapsed": false
   }
  },
  {
   "cell_type": "code",
   "execution_count": 25,
   "outputs": [
    {
     "name": "stdout",
     "output_type": "stream",
     "text": [
      "[[0.00537631]]\n"
     ]
    }
   ],
   "source": [
    "cosine_sim = cosine_similarity(x[0], x[14])\n",
    "print(cosine_sim)"
   ],
   "metadata": {
    "collapsed": false
   }
  },
  {
   "cell_type": "code",
   "execution_count": 10,
   "outputs": [],
   "source": [
    "from scipy import sparse\n",
    "# faster to use the npz numpy file!\n",
    "s#parse.save_npz('../data/wikidata5m_inductive/tfidf_features_ind.npz', x)\n",
    "# how to load:\n",
    "# x = sparse.load_npz('../data/wikidata5m_inductive/tfidf_features.npz')\n"
   ],
   "metadata": {
    "collapsed": false
   }
  },
  {
   "cell_type": "code",
   "execution_count": 26,
   "outputs": [],
   "source": [
    "torch.save(x, '../data/wikidata5m_inductive/tfidf_features_inductive.pt')"
   ],
   "metadata": {
    "collapsed": false
   }
  },
  {
   "cell_type": "code",
   "execution_count": 27,
   "outputs": [],
   "source": [
    "k = torch.load('../data/wikidata5m_inductive/tfidf_features_inductive.pt')"
   ],
   "metadata": {
    "collapsed": false
   }
  },
  {
   "cell_type": "code",
   "execution_count": 17,
   "outputs": [
    {
     "ename": "ValueError",
     "evalue": "setting an array element with a sequence.",
     "output_type": "error",
     "traceback": [
      "\u001B[0;31m---------------------------------------------------------------------------\u001B[0m",
      "\u001B[0;31mTypeError\u001B[0m                                 Traceback (most recent call last)",
      "\u001B[0;31mTypeError\u001B[0m: float() argument must be a string or a number, not 'csr_matrix'",
      "\nThe above exception was the direct cause of the following exception:\n",
      "\u001B[0;31mValueError\u001B[0m                                Traceback (most recent call last)",
      "Cell \u001B[0;32mIn[17], line 2\u001B[0m\n\u001B[1;32m      1\u001B[0m \u001B[38;5;28;01mfrom\u001B[39;00m \u001B[38;5;21;01msklearn\u001B[39;00m\u001B[38;5;21;01m.\u001B[39;00m\u001B[38;5;21;01mmetrics\u001B[39;00m\u001B[38;5;21;01m.\u001B[39;00m\u001B[38;5;21;01mpairwise\u001B[39;00m \u001B[38;5;28;01mimport\u001B[39;00m cosine_similarity\n\u001B[0;32m----> 2\u001B[0m cosine_sim \u001B[38;5;241m=\u001B[39m \u001B[43mcosine_similarity\u001B[49m\u001B[43m(\u001B[49m\u001B[43m[\u001B[49m\u001B[43mtfidf_feature_vectors\u001B[49m\u001B[43m[\u001B[49m\u001B[38;5;241;43m0\u001B[39;49m\u001B[43m]\u001B[49m\u001B[43m,\u001B[49m\u001B[43m \u001B[49m\u001B[43mtfidf_feature_vectors\u001B[49m\u001B[43m[\u001B[49m\u001B[38;5;241;43m9\u001B[39;49m\u001B[43m]\u001B[49m\u001B[43m]\u001B[49m\u001B[43m)\u001B[49m\n\u001B[1;32m      3\u001B[0m cosine_sim\n",
      "File \u001B[0;32m~/miniconda3_m1/envs/cbilp/lib/python3.9/site-packages/sklearn/metrics/pairwise.py:1393\u001B[0m, in \u001B[0;36mcosine_similarity\u001B[0;34m(X, Y, dense_output)\u001B[0m\n\u001B[1;32m   1358\u001B[0m \u001B[38;5;250m\u001B[39m\u001B[38;5;124;03m\"\"\"Compute cosine similarity between samples in X and Y.\u001B[39;00m\n\u001B[1;32m   1359\u001B[0m \n\u001B[1;32m   1360\u001B[0m \u001B[38;5;124;03mCosine similarity, or the cosine kernel, computes similarity as the\u001B[39;00m\n\u001B[0;32m   (...)\u001B[0m\n\u001B[1;32m   1389\u001B[0m \u001B[38;5;124;03m    Returns the cosine similarity between samples in X and Y.\u001B[39;00m\n\u001B[1;32m   1390\u001B[0m \u001B[38;5;124;03m\"\"\"\u001B[39;00m\n\u001B[1;32m   1391\u001B[0m \u001B[38;5;66;03m# to avoid recursive import\u001B[39;00m\n\u001B[0;32m-> 1393\u001B[0m X, Y \u001B[38;5;241m=\u001B[39m \u001B[43mcheck_pairwise_arrays\u001B[49m\u001B[43m(\u001B[49m\u001B[43mX\u001B[49m\u001B[43m,\u001B[49m\u001B[43m \u001B[49m\u001B[43mY\u001B[49m\u001B[43m)\u001B[49m\n\u001B[1;32m   1395\u001B[0m X_normalized \u001B[38;5;241m=\u001B[39m normalize(X, copy\u001B[38;5;241m=\u001B[39m\u001B[38;5;28;01mTrue\u001B[39;00m)\n\u001B[1;32m   1396\u001B[0m \u001B[38;5;28;01mif\u001B[39;00m X \u001B[38;5;129;01mis\u001B[39;00m Y:\n",
      "File \u001B[0;32m~/miniconda3_m1/envs/cbilp/lib/python3.9/site-packages/sklearn/metrics/pairwise.py:146\u001B[0m, in \u001B[0;36mcheck_pairwise_arrays\u001B[0;34m(X, Y, precomputed, dtype, accept_sparse, force_all_finite, copy)\u001B[0m\n\u001B[1;32m    143\u001B[0m     dtype \u001B[38;5;241m=\u001B[39m dtype_float\n\u001B[1;32m    145\u001B[0m \u001B[38;5;28;01mif\u001B[39;00m Y \u001B[38;5;129;01mis\u001B[39;00m X \u001B[38;5;129;01mor\u001B[39;00m Y \u001B[38;5;129;01mis\u001B[39;00m \u001B[38;5;28;01mNone\u001B[39;00m:\n\u001B[0;32m--> 146\u001B[0m     X \u001B[38;5;241m=\u001B[39m Y \u001B[38;5;241m=\u001B[39m \u001B[43mcheck_array\u001B[49m\u001B[43m(\u001B[49m\n\u001B[1;32m    147\u001B[0m \u001B[43m        \u001B[49m\u001B[43mX\u001B[49m\u001B[43m,\u001B[49m\n\u001B[1;32m    148\u001B[0m \u001B[43m        \u001B[49m\u001B[43maccept_sparse\u001B[49m\u001B[38;5;241;43m=\u001B[39;49m\u001B[43maccept_sparse\u001B[49m\u001B[43m,\u001B[49m\n\u001B[1;32m    149\u001B[0m \u001B[43m        \u001B[49m\u001B[43mdtype\u001B[49m\u001B[38;5;241;43m=\u001B[39;49m\u001B[43mdtype\u001B[49m\u001B[43m,\u001B[49m\n\u001B[1;32m    150\u001B[0m \u001B[43m        \u001B[49m\u001B[43mcopy\u001B[49m\u001B[38;5;241;43m=\u001B[39;49m\u001B[43mcopy\u001B[49m\u001B[43m,\u001B[49m\n\u001B[1;32m    151\u001B[0m \u001B[43m        \u001B[49m\u001B[43mforce_all_finite\u001B[49m\u001B[38;5;241;43m=\u001B[39;49m\u001B[43mforce_all_finite\u001B[49m\u001B[43m,\u001B[49m\n\u001B[1;32m    152\u001B[0m \u001B[43m        \u001B[49m\u001B[43mestimator\u001B[49m\u001B[38;5;241;43m=\u001B[39;49m\u001B[43mestimator\u001B[49m\u001B[43m,\u001B[49m\n\u001B[1;32m    153\u001B[0m \u001B[43m    \u001B[49m\u001B[43m)\u001B[49m\n\u001B[1;32m    154\u001B[0m \u001B[38;5;28;01melse\u001B[39;00m:\n\u001B[1;32m    155\u001B[0m     X \u001B[38;5;241m=\u001B[39m check_array(\n\u001B[1;32m    156\u001B[0m         X,\n\u001B[1;32m    157\u001B[0m         accept_sparse\u001B[38;5;241m=\u001B[39maccept_sparse,\n\u001B[0;32m   (...)\u001B[0m\n\u001B[1;32m    161\u001B[0m         estimator\u001B[38;5;241m=\u001B[39mestimator,\n\u001B[1;32m    162\u001B[0m     )\n",
      "File \u001B[0;32m~/miniconda3_m1/envs/cbilp/lib/python3.9/site-packages/sklearn/utils/validation.py:879\u001B[0m, in \u001B[0;36mcheck_array\u001B[0;34m(array, accept_sparse, accept_large_sparse, dtype, order, copy, force_all_finite, ensure_2d, allow_nd, ensure_min_samples, ensure_min_features, estimator, input_name)\u001B[0m\n\u001B[1;32m    877\u001B[0m         array \u001B[38;5;241m=\u001B[39m xp\u001B[38;5;241m.\u001B[39mastype(array, dtype, copy\u001B[38;5;241m=\u001B[39m\u001B[38;5;28;01mFalse\u001B[39;00m)\n\u001B[1;32m    878\u001B[0m     \u001B[38;5;28;01melse\u001B[39;00m:\n\u001B[0;32m--> 879\u001B[0m         array \u001B[38;5;241m=\u001B[39m \u001B[43m_asarray_with_order\u001B[49m\u001B[43m(\u001B[49m\u001B[43marray\u001B[49m\u001B[43m,\u001B[49m\u001B[43m \u001B[49m\u001B[43morder\u001B[49m\u001B[38;5;241;43m=\u001B[39;49m\u001B[43morder\u001B[49m\u001B[43m,\u001B[49m\u001B[43m \u001B[49m\u001B[43mdtype\u001B[49m\u001B[38;5;241;43m=\u001B[39;49m\u001B[43mdtype\u001B[49m\u001B[43m,\u001B[49m\u001B[43m \u001B[49m\u001B[43mxp\u001B[49m\u001B[38;5;241;43m=\u001B[39;49m\u001B[43mxp\u001B[49m\u001B[43m)\u001B[49m\n\u001B[1;32m    880\u001B[0m \u001B[38;5;28;01mexcept\u001B[39;00m ComplexWarning \u001B[38;5;28;01mas\u001B[39;00m complex_warning:\n\u001B[1;32m    881\u001B[0m     \u001B[38;5;28;01mraise\u001B[39;00m \u001B[38;5;167;01mValueError\u001B[39;00m(\n\u001B[1;32m    882\u001B[0m         \u001B[38;5;124m\"\u001B[39m\u001B[38;5;124mComplex data not supported\u001B[39m\u001B[38;5;130;01m\\n\u001B[39;00m\u001B[38;5;132;01m{}\u001B[39;00m\u001B[38;5;130;01m\\n\u001B[39;00m\u001B[38;5;124m\"\u001B[39m\u001B[38;5;241m.\u001B[39mformat(array)\n\u001B[1;32m    883\u001B[0m     ) \u001B[38;5;28;01mfrom\u001B[39;00m \u001B[38;5;21;01mcomplex_warning\u001B[39;00m\n",
      "File \u001B[0;32m~/miniconda3_m1/envs/cbilp/lib/python3.9/site-packages/sklearn/utils/_array_api.py:185\u001B[0m, in \u001B[0;36m_asarray_with_order\u001B[0;34m(array, dtype, order, copy, xp)\u001B[0m\n\u001B[1;32m    182\u001B[0m     xp, _ \u001B[38;5;241m=\u001B[39m get_namespace(array)\n\u001B[1;32m    183\u001B[0m \u001B[38;5;28;01mif\u001B[39;00m xp\u001B[38;5;241m.\u001B[39m\u001B[38;5;18m__name__\u001B[39m \u001B[38;5;129;01min\u001B[39;00m {\u001B[38;5;124m\"\u001B[39m\u001B[38;5;124mnumpy\u001B[39m\u001B[38;5;124m\"\u001B[39m, \u001B[38;5;124m\"\u001B[39m\u001B[38;5;124mnumpy.array_api\u001B[39m\u001B[38;5;124m\"\u001B[39m}:\n\u001B[1;32m    184\u001B[0m     \u001B[38;5;66;03m# Use NumPy API to support order\u001B[39;00m\n\u001B[0;32m--> 185\u001B[0m     array \u001B[38;5;241m=\u001B[39m \u001B[43mnumpy\u001B[49m\u001B[38;5;241;43m.\u001B[39;49m\u001B[43masarray\u001B[49m\u001B[43m(\u001B[49m\u001B[43marray\u001B[49m\u001B[43m,\u001B[49m\u001B[43m \u001B[49m\u001B[43morder\u001B[49m\u001B[38;5;241;43m=\u001B[39;49m\u001B[43morder\u001B[49m\u001B[43m,\u001B[49m\u001B[43m \u001B[49m\u001B[43mdtype\u001B[49m\u001B[38;5;241;43m=\u001B[39;49m\u001B[43mdtype\u001B[49m\u001B[43m)\u001B[49m\n\u001B[1;32m    186\u001B[0m     \u001B[38;5;28;01mreturn\u001B[39;00m xp\u001B[38;5;241m.\u001B[39masarray(array, copy\u001B[38;5;241m=\u001B[39mcopy)\n\u001B[1;32m    187\u001B[0m \u001B[38;5;28;01melse\u001B[39;00m:\n",
      "\u001B[0;31mValueError\u001B[0m: setting an array element with a sequence."
     ]
    }
   ],
   "source": [
    "from sklearn.metrics.pairwise import cosine_similarity\n",
    "cosine_sim = cosine_similarity([x[0], x[9]])\n",
    "cosine_sim"
   ],
   "metadata": {
    "collapsed": false
   }
  },
  {
   "cell_type": "code",
   "execution_count": 14,
   "outputs": [
    {
     "name": "stdout",
     "output_type": "stream",
     "text": [
      "  (0, 2817021)\t0.07724725017925207\n",
      "  (0, 592870)\t0.0382208101146961\n",
      "  (0, 3195352)\t0.05791789509341351\n",
      "  (0, 279219)\t0.06545553243216483\n",
      "  (0, 1756329)\t0.02875493227499248\n",
      "  (0, 178890)\t0.07054007598430072\n",
      "  (0, 1005792)\t0.05353974903320097\n",
      "  (0, 463922)\t0.06212201277448217\n",
      "  (0, 1460817)\t0.06626717652563598\n",
      "  (0, 3341485)\t0.07116313471221578\n",
      "  (0, 1091641)\t0.057094933200909866\n",
      "  (0, 2000612)\t0.0530432417939497\n",
      "  (0, 1460771)\t0.04814323990994024\n",
      "  (0, 1118018)\t0.08082544518017783\n",
      "  (0, 168601)\t0.04111218264451025\n",
      "  (0, 1227207)\t0.038892766379683974\n",
      "  (0, 3312906)\t0.037014275875305445\n",
      "  (0, 1466645)\t0.07080609961855235\n",
      "  (0, 2882720)\t0.1608265687356716\n",
      "  (0, 1449838)\t0.08562189001191592\n",
      "  (0, 1371344)\t0.048101335812803514\n",
      "  (0, 3284382)\t0.05142599051816527\n",
      "  (0, 3345786)\t0.03935490208176332\n",
      "  (0, 989203)\t0.13196618165492383\n",
      "  (0, 1745659)\t0.03778659334471948\n",
      "  :\t:\n",
      "  (0, 2573615)\t0.11202458842223612\n",
      "  (0, 546757)\t0.03568096464064023\n",
      "  (0, 1805767)\t0.035725446405517225\n",
      "  (0, 1243412)\t0.044848794858249406\n",
      "  (0, 1142878)\t0.06680393763075887\n",
      "  (0, 468651)\t0.04355899824250308\n",
      "  (0, 607764)\t0.047563031262279884\n",
      "  (0, 2324398)\t0.06125596248505473\n",
      "  (0, 887026)\t0.04776729026067373\n",
      "  (0, 1249494)\t0.035773668962868134\n",
      "  (0, 2039587)\t0.050285989820675295\n",
      "  (0, 2132633)\t0.032762331837207635\n",
      "  (0, 2920761)\t0.07409728379569497\n",
      "  (0, 3043039)\t0.05772270181776773\n",
      "  (0, 1831493)\t0.040278433465057516\n",
      "  (0, 1817011)\t0.025012243321463883\n",
      "  (0, 702426)\t0.08070576567379001\n",
      "  (0, 2315115)\t0.12135524025255588\n",
      "  (0, 1004052)\t0.06597753393576511\n",
      "  (0, 689808)\t0.3193792878754699\n",
      "  (0, 527425)\t0.26403870245484157\n",
      "  (0, 1822401)\t0.21253556383921327\n",
      "  (0, 1917565)\t0.18770294545858632\n",
      "  (0, 1871592)\t0.43265381782388673\n",
      "  (0, 2892363)\t0.24158930894174682\n"
     ]
    }
   ],
   "source": [
    "print(k[0])"
   ],
   "metadata": {
    "collapsed": false
   }
  },
  {
   "cell_type": "code",
   "execution_count": 69,
   "outputs": [],
   "source": [
    "x = torch.load('../data/wikidata5m_inductive/entity_description_first_sentence_embedding.pt')"
   ],
   "metadata": {
    "collapsed": false
   }
  },
  {
   "cell_type": "code",
   "execution_count": 32,
   "outputs": [
    {
     "data": {
      "text/plain": "tensor([[ 0.0849,  0.0310, -0.0396,  ...,  0.0351,  0.0726,  0.0102],\n        [-0.0232,  0.0864, -0.0948,  ...,  0.0643,  0.0029, -0.0484],\n        [ 0.0534, -0.0389,  0.0421,  ..., -0.0390,  0.0267,  0.0127],\n        ...,\n        [-0.0757,  0.0246, -0.0476,  ..., -0.0566,  0.0126, -0.0067],\n        [-0.0425,  0.0208, -0.0873,  ..., -0.0584, -0.0151,  0.0814],\n        [-0.0249,  0.0120, -0.0359,  ..., -0.0055,  0.0415,  0.0298]])"
     },
     "execution_count": 32,
     "metadata": {},
     "output_type": "execute_result"
    }
   ],
   "source": [
    "x"
   ],
   "metadata": {
    "collapsed": false
   }
  },
  {
   "cell_type": "code",
   "execution_count": 70,
   "outputs": [
    {
     "name": "stdout",
     "output_type": "stream",
     "text": [
      "torch.Size([6, 384])\n"
     ]
    },
    {
     "data": {
      "text/plain": "tensor([ 0.1458, -0.0589, -0.0683,  0.0238, -0.0313,  1.0000])"
     },
     "execution_count": 70,
     "metadata": {},
     "output_type": "execute_result"
    }
   ],
   "source": [
    "cos = torch.nn.CosineSimilarity(dim=1)\n",
    "neighbors = x[[1,21, 31, 4,5, 0]]\n",
    "head = x[0]\n",
    "head_stacked = head.repeat((neighbors.size(0),1))\n",
    "print(head_stacked.size())\n",
    "cos(head_stacked, neighbors)\n"
   ],
   "metadata": {
    "collapsed": false
   }
  },
  {
   "cell_type": "code",
   "execution_count": 41,
   "outputs": [
    {
     "data": {
      "text/plain": "tensor(-0.0948)"
     },
     "execution_count": 41,
     "metadata": {},
     "output_type": "execute_result"
    }
   ],
   "source": [],
   "metadata": {
    "collapsed": false
   }
  },
  {
   "cell_type": "code",
   "execution_count": 53,
   "outputs": [
    {
     "data": {
      "text/plain": "Counter({5: 2, 3: 2, 7: 1})"
     },
     "execution_count": 53,
     "metadata": {},
     "output_type": "execute_result"
    }
   ],
   "source": [
    "from collections import Counter\n",
    "\n",
    "Counter([5,3,5,7,3])"
   ],
   "metadata": {
    "collapsed": false
   }
  },
  {
   "cell_type": "code",
   "execution_count": 66,
   "outputs": [],
   "source": [
    "from torch_geometric.data import Data\n",
    "from torch_geometric.transforms import RemoveDuplicatedEdges\n",
    "\n",
    "transform = RemoveDuplicatedEdges()\n",
    "out = transform(Data(x=torch.tensor([]), edge_index=torch.tensor( [[1,2,1],[1,2,1]]))).edge_index"
   ],
   "metadata": {
    "collapsed": false
   }
  },
  {
   "cell_type": "code",
   "execution_count": 67,
   "outputs": [
    {
     "data": {
      "text/plain": "tensor([[1, 2],\n        [1, 2]])"
     },
     "execution_count": 67,
     "metadata": {},
     "output_type": "execute_result"
    }
   ],
   "source": [
    "out"
   ],
   "metadata": {
    "collapsed": false
   }
  },
  {
   "cell_type": "code",
   "execution_count": 3,
   "outputs": [],
   "source": [
    "tfidf_feature_vectors = torch.load('../data/wikidata5m_inductive/tfidf_features.pt')"
   ],
   "metadata": {
    "collapsed": false
   }
  },
  {
   "cell_type": "code",
   "execution_count": 13,
   "outputs": [
    {
     "data": {
      "text/plain": "tensor([[0., 0., 0.,  ..., 0., 0., 0.],\n        [0., 0., 0.,  ..., 0., 0., 0.]], dtype=torch.float64)"
     },
     "execution_count": 13,
     "metadata": {},
     "output_type": "execute_result"
    }
   ],
   "source": [
    "torch.from_numpy(tfidf_feature_vectors[[1,2]].todense())"
   ],
   "metadata": {
    "collapsed": false
   }
  },
  {
   "cell_type": "code",
   "execution_count": 4,
   "outputs": [
    {
     "ename": "AttributeError",
     "evalue": "repeat not found",
     "output_type": "error",
     "traceback": [
      "\u001B[0;31m---------------------------------------------------------------------------\u001B[0m",
      "\u001B[0;31mAttributeError\u001B[0m                            Traceback (most recent call last)",
      "Cell \u001B[0;32mIn[4], line 1\u001B[0m\n\u001B[0;32m----> 1\u001B[0m head_features_stacked \u001B[38;5;241m=\u001B[39m \u001B[43mtfidf_feature_vectors\u001B[49m\u001B[43m[\u001B[49m\u001B[38;5;241;43m5\u001B[39;49m\u001B[43m]\u001B[49m\u001B[38;5;241;43m.\u001B[39;49m\u001B[43mrepeat\u001B[49m((\u001B[38;5;241m5\u001B[39m, \u001B[38;5;241m1\u001B[39m))\n",
      "File \u001B[0;32m~/miniconda3_m1/envs/cbilp/lib/python3.9/site-packages/scipy/sparse/_base.py:771\u001B[0m, in \u001B[0;36mspmatrix.__getattr__\u001B[0;34m(self, attr)\u001B[0m\n\u001B[1;32m    769\u001B[0m     \u001B[38;5;28;01mreturn\u001B[39;00m \u001B[38;5;28mself\u001B[39m\u001B[38;5;241m.\u001B[39mgetnnz()\n\u001B[1;32m    770\u001B[0m \u001B[38;5;28;01melse\u001B[39;00m:\n\u001B[0;32m--> 771\u001B[0m     \u001B[38;5;28;01mraise\u001B[39;00m \u001B[38;5;167;01mAttributeError\u001B[39;00m(attr \u001B[38;5;241m+\u001B[39m \u001B[38;5;124m\"\u001B[39m\u001B[38;5;124m not found\u001B[39m\u001B[38;5;124m\"\u001B[39m)\n",
      "\u001B[0;31mAttributeError\u001B[0m: repeat not found"
     ]
    }
   ],
   "source": [
    "head_features_stacked = tfidf_feature_vectors[5].repeat((5, 1))"
   ],
   "metadata": {
    "collapsed": false
   }
  },
  {
   "cell_type": "code",
   "execution_count": 8,
   "outputs": [
    {
     "ename": "AttributeError",
     "evalue": "to_dense not found",
     "output_type": "error",
     "traceback": [
      "\u001B[0;31m---------------------------------------------------------------------------\u001B[0m",
      "\u001B[0;31mAttributeError\u001B[0m                            Traceback (most recent call last)",
      "Cell \u001B[0;32mIn[8], line 2\u001B[0m\n\u001B[1;32m      1\u001B[0m cos \u001B[38;5;241m=\u001B[39m torch\u001B[38;5;241m.\u001B[39mnn\u001B[38;5;241m.\u001B[39mCosineSimilarity(dim\u001B[38;5;241m=\u001B[39m\u001B[38;5;241m1\u001B[39m)\n\u001B[0;32m----> 2\u001B[0m cos(\u001B[43mtfidf_feature_vectors\u001B[49m\u001B[43m[\u001B[49m\u001B[38;5;241;43m5\u001B[39;49m\u001B[43m]\u001B[49m\u001B[38;5;241;43m.\u001B[39;49m\u001B[43mto_dense\u001B[49m(), tfidf_feature_vectors[\u001B[38;5;241m5\u001B[39m]\u001B[38;5;241m.\u001B[39mto_dense())\n",
      "File \u001B[0;32m~/miniconda3_m1/envs/cbilp/lib/python3.9/site-packages/scipy/sparse/_base.py:771\u001B[0m, in \u001B[0;36mspmatrix.__getattr__\u001B[0;34m(self, attr)\u001B[0m\n\u001B[1;32m    769\u001B[0m     \u001B[38;5;28;01mreturn\u001B[39;00m \u001B[38;5;28mself\u001B[39m\u001B[38;5;241m.\u001B[39mgetnnz()\n\u001B[1;32m    770\u001B[0m \u001B[38;5;28;01melse\u001B[39;00m:\n\u001B[0;32m--> 771\u001B[0m     \u001B[38;5;28;01mraise\u001B[39;00m \u001B[38;5;167;01mAttributeError\u001B[39;00m(attr \u001B[38;5;241m+\u001B[39m \u001B[38;5;124m\"\u001B[39m\u001B[38;5;124m not found\u001B[39m\u001B[38;5;124m\"\u001B[39m)\n",
      "\u001B[0;31mAttributeError\u001B[0m: to_dense not found"
     ]
    }
   ],
   "source": [
    "cos = torch.nn.CosineSimilarity(dim=1)\n",
    "\n",
    "head = torch.from_numpy(tfidf_feature_vectors[[1,2]].todense())\n",
    "\n",
    "cos(tfidf_feature_vectors[5].to_dense(), tfidf_feature_vectors[5].to_dense())"
   ],
   "metadata": {
    "collapsed": false
   }
  },
  {
   "cell_type": "code",
   "execution_count": 10,
   "outputs": [
    {
     "data": {
      "text/plain": "array([1.        , 0.0181096 , 0.0181096 , 0.02673764, 0.        ,\n       0.        , 0.00157571, 0.03113341, 0.        ])"
     },
     "execution_count": 10,
     "metadata": {},
     "output_type": "execute_result"
    }
   ],
   "source": [
    "from sklearn.metrics.pairwise import cosine_similarity\n",
    "import torch\n",
    "from scipy import sparse\n",
    "\n",
    "cosine_sim = cosine_similarity(tfidf_feature_vectors[[0,1,1,2,3,4,5,6,7]])[0]\n",
    "cosine_sim"
   ],
   "metadata": {
    "collapsed": false
   }
  },
  {
   "cell_type": "code",
   "execution_count": null,
   "outputs": [],
   "source": [],
   "metadata": {
    "collapsed": false
   }
  }
 ],
 "metadata": {
  "kernelspec": {
   "display_name": "Python 3",
   "language": "python",
   "name": "python3"
  },
  "language_info": {
   "codemirror_mode": {
    "name": "ipython",
    "version": 2
   },
   "file_extension": ".py",
   "mimetype": "text/x-python",
   "name": "python",
   "nbconvert_exporter": "python",
   "pygments_lexer": "ipython2",
   "version": "2.7.6"
  }
 },
 "nbformat": 4,
 "nbformat_minor": 0
}
